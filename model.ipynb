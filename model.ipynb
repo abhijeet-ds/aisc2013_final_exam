{
 "cells": [
  {
   "cell_type": "markdown",
   "id": "0b464a31",
   "metadata": {},
   "source": [
    "### 1. Data Collection"
   ]
  },
  {
   "cell_type": "code",
   "execution_count": 8,
   "id": "8c3cf1a9",
   "metadata": {},
   "outputs": [],
   "source": [
    "import yfinance as yf\n",
    "\n",
    "def download_stock_data(ticker, start_date, end_date):\n",
    "    stock_data = yf.download(ticker, start=start_date, end=end_date)\n",
    "    stock_data.to_csv(f'{ticker}.csv')\n",
    "    return stock_data\n"
   ]
  },
  {
   "cell_type": "code",
   "execution_count": 16,
   "id": "8793592e",
   "metadata": {},
   "outputs": [
    {
     "name": "stderr",
     "output_type": "stream",
     "text": [
      "[*********************100%%**********************]  1 of 1 completed\n"
     ]
    }
   ],
   "source": [
    "data = download_stock_data('MSFT', '2023-06-06', '2023-06-28')"
   ]
  },
  {
   "cell_type": "markdown",
   "id": "b360fe69",
   "metadata": {},
   "source": [
    "### 2. Feature Engg"
   ]
  },
  {
   "cell_type": "code",
   "execution_count": 9,
   "id": "37f013a4",
   "metadata": {},
   "outputs": [],
   "source": [
    "def add_indicators(df):\n",
    "    df['SMA_20'] = df['Close'].rolling(window=20).mean()\n",
    "    df['SMA_50'] = df['Close'].rolling(window=50).mean()\n",
    "    df['RSI'] = compute_rsi(df['Close'], window=14)\n",
    "    return df\n",
    "\n",
    "def compute_rsi(series, window):\n",
    "    delta = series.diff(1)\n",
    "    gain = delta.where(delta > 0, 0.0)\n",
    "    loss = -delta.where(delta < 0, 0.0)\n",
    "    avg_gain = gain.rolling(window=window, min_periods=1).mean()\n",
    "    avg_loss = loss.rolling(window=window, min_periods=1).mean()\n",
    "    rs = avg_gain / avg_loss\n",
    "    rsi = 100 - (100 / (1 + rs))\n",
    "    return rsi\n"
   ]
  },
  {
   "cell_type": "markdown",
   "id": "0a475804",
   "metadata": {},
   "source": [
    "### 3. Model training"
   ]
  },
  {
   "cell_type": "code",
   "execution_count": 10,
   "id": "39988395",
   "metadata": {},
   "outputs": [],
   "source": [
    "from sklearn.model_selection import train_test_split\n",
    "from sklearn.ensemble import RandomForestRegressor\n",
    "from sklearn.metrics import mean_squared_error\n",
    "\n",
    "def train_stock_model(df):\n",
    "    df = df.dropna()\n",
    "    X = df[['SMA_20', 'SMA_50', 'RSI']]  # Example features\n",
    "    y = df['Close']\n",
    "\n",
    "    X_train, X_test, y_train, y_test = train_test_split(X, y, test_size=0.2, random_state=42)\n",
    "    model = RandomForestRegressor(n_estimators=100)\n",
    "    model.fit(X_train, y_train)\n",
    "\n",
    "#     Model Prediction\n",
    "    y_pred = model.predict(X_test)\n",
    "    mse = mean_squared_error(y_test, y_pred)\n",
    "    return model, mse\n"
   ]
  },
  {
   "cell_type": "markdown",
   "id": "26fa6b9c",
   "metadata": {},
   "source": [
    "### 4. Model Visualtization"
   ]
  },
  {
   "cell_type": "code",
   "execution_count": 11,
   "id": "54f44dee",
   "metadata": {},
   "outputs": [],
   "source": [
    "import matplotlib.pyplot as plt\n",
    "\n",
    "def plot_predictions(df, y_pred):\n",
    "    plt.figure(figsize=(10, 5))\n",
    "    plt.plot(df.index, df['Close'], label='Actual')\n",
    "    plt.plot(df.index[-len(y_pred):], y_pred, label='Predicted')\n",
    "    plt.xlabel('Date')\n",
    "    plt.ylabel('Price')\n",
    "    plt.legend()\n",
    "    plt.show()\n"
   ]
  },
  {
   "cell_type": "code",
   "execution_count": null,
   "id": "26249507",
   "metadata": {},
   "outputs": [],
   "source": []
  }
 ],
 "metadata": {
  "kernelspec": {
   "display_name": "venv",
   "language": "python",
   "name": "venv"
  },
  "language_info": {
   "codemirror_mode": {
    "name": "ipython",
    "version": 3
   },
   "file_extension": ".py",
   "mimetype": "text/x-python",
   "name": "python",
   "nbconvert_exporter": "python",
   "pygments_lexer": "ipython3",
   "version": "3.9.7"
  }
 },
 "nbformat": 4,
 "nbformat_minor": 5
}
